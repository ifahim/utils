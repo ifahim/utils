{
 "cells": [
  {
   "cell_type": "markdown",
   "metadata": {
    "colab_type": "text",
    "id": "V8-yl-s-WKMG"
   },
   "source": [
    "# Prepare EPOXY data in COCO format\n"
   ]
  },
  {
   "cell_type": "code",
   "execution_count": 24,
   "metadata": {},
   "outputs": [],
   "source": [
    "# https://github.com/akarazniewicz/cocosplit/blob/master/cocosplit.py\n",
    "import json\n",
    "import argparse\n",
    "import funcy\n",
    "from sklearn.model_selection import train_test_split\n",
    "import shutil\n",
    "import os \n",
    "\n",
    "def save_coco(file, info, licenses, categories, images, annotations):\n",
    "    with open(file, 'wt', encoding='UTF-8') as coco:\n",
    "        json.dump({ 'info': info, 'licenses': licenses, 'categories': categories, 'images': images, \n",
    "            'annotations': annotations}, coco, indent=2, sort_keys=False)\n",
    "\n",
    "def filter_annotations(annotations, images):\n",
    "    image_ids = funcy.lmap(lambda i: int(i['id']), images)\n",
    "    return funcy.lfilter(lambda a: int(a['image_id']) in image_ids, annotations)\n",
    "\n",
    "\n",
    "def copy_files(fns, src_dir, tgt_dir):\n",
    "    for fn in fns:\n",
    "        shutil.copy2(os.path.join(src_dir, fn), os.path.join(tgt_dir, fn))\n",
    "        \n",
    "def clean_annotation(annot):\n",
    "    filtered_mod = []\n",
    "    for bb in annot:\n",
    "        b = {\"id\": bb['id'], \n",
    "             \"image_id\" : bb['image_id'], \n",
    "             \"category_id\" : bb['category_id'],\n",
    "             \"bbox\" : bb['bbox'], \n",
    "             \"segmentation\": [], \n",
    "             \"iscrowd\" : bb['iscrowd']\n",
    "            }\n",
    "        filtered_mod.append(b)\n",
    "    return filtered_mod\n",
    "\n",
    "def clean_images_info(images):\n",
    "    filtered_mod = []\n",
    "    for bb in images:\n",
    "        b = {\"id\": bb['id'], \n",
    "             \"file_name\" : bb['file_name'], \n",
    "             \"width\" : bb['width'],\n",
    "             \"height\" : bb['height'], \n",
    "             \"product_id\" : bb['product_id']\n",
    "            }\n",
    "        filtered_mod.append(b)\n",
    "    return filtered_mod\n",
    "\n",
    "\n",
    "img_src_dir = '/mnt/sda1/intel_challenge/epoxy/defect_detection/img/'\n",
    "fn = '/mnt/sda1/intel_challenge/epoxy/defect_detection/annotations_all.json'\n",
    "#having_annotations = False \n",
    "\n",
    "train_dir =  '/mnt/sda1/intel_challenge/epoxy/train'\n",
    "valid_dir =  '/mnt/sda1/intel_challenge/epoxy/valid'\n",
    "test_dir =  '/mnt/sda1/intel_challenge/epoxy/test'\n",
    "os.makedirs(train_dir, exist_ok=True)\n",
    "os.makedirs(valid_dir, exist_ok=True)\n",
    "os.makedirs(test_dir, exist_ok=True)\n",
    "train_fn = os.path.join(train_dir, 'train.json')\n",
    "valid_fn = os.path.join(valid_dir, 'valid.json')\n",
    "test_fn =  os.path.join(test_dir, 'test.json')\n",
    "\n",
    "\n",
    "with open(fn, 'rt') as annot:\n",
    "    coco = json.load(annot)\n",
    "    info = coco['info']\n",
    "    licenses = coco['licenses']\n",
    "    categories = coco['categories']\n",
    "    images = coco['images']\n",
    "    annotations = coco['annotations']\n",
    "    \n",
    "    number_of_images = len(images)\n",
    "\n",
    "    #images_with_annotations = funcy.lmap(lambda a: int(a['image_id']), annotations)\n",
    "\n",
    "    #if having_annotations:\n",
    "    #    images = funcy.lremove(lambda i: i['id'] not in images_with_annotations, images)\n",
    "    #split and sort ids \n",
    "    train, test = train_test_split(images, train_size=0.8, random_state= 42)\n",
    "    test, valid = train_test_split(test, train_size=0.05, random_state=42)\n",
    "    train = sorted(train, key = lambda i: i['id']) \n",
    "    valid = sorted(valid, key = lambda i: i['id']) \n",
    "    test  = sorted(test,  key = lambda i: i['id']) \n",
    "    \n",
    "    save_coco(train_fn, info, licenses, categories, clean_images_info(train),clean_annotation(filter_annotations(annotations, train)))\n",
    "    save_coco(valid_fn, info, licenses, categories, clean_images_info(valid),clean_annotation(filter_annotations(annotations, valid)))\n",
    "    save_coco(test_fn, info, licenses, categories, clean_images_info(test),clean_annotation(filter_annotations(annotations, test)))\n"
   ]
  },
  {
   "cell_type": "code",
   "execution_count": 25,
   "metadata": {},
   "outputs": [],
   "source": [
    "train_imgs_fns = set([x['file_name'] for x in train])\n",
    "valid_imgs_fns = set([x['file_name'] for x in valid])\n",
    "test_imgs_fns = set([x['file_name'] for x in test])\n",
    "copy_files(train_imgs_fns, img_src_dir, train_dir)\n",
    "copy_files(valid_imgs_fns, img_src_dir, valid_dir)\n",
    "copy_files(test_imgs_fns, img_src_dir, test_dir)"
   ]
  },
  {
   "cell_type": "code",
   "execution_count": null,
   "metadata": {},
   "outputs": [],
   "source": []
  }
 ],
 "metadata": {
  "accelerator": "GPU",
  "colab": {
   "collapsed_sections": [],
   "name": "tutorial.ipynb",
   "provenance": [],
   "toc_visible": true
  },
  "kernelspec": {
   "display_name": "Python 3",
   "language": "python",
   "name": "python3"
  },
  "language_info": {
   "codemirror_mode": {
    "name": "ipython",
    "version": 3
   },
   "file_extension": ".py",
   "mimetype": "text/x-python",
   "name": "python",
   "nbconvert_exporter": "python",
   "pygments_lexer": "ipython3",
   "version": "3.7.7"
  }
 },
 "nbformat": 4,
 "nbformat_minor": 1
}
